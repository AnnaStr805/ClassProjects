{
 "cells": [
  {
   "cell_type": "code",
   "execution_count": 1,
   "metadata": {},
   "outputs": [],
   "source": [
    "from pyspark.sql import SparkSession\n",
    "spark=SparkSession.builder.appName('Assignment4').getOrCreate()"
   ]
  },
  {
   "cell_type": "code",
   "execution_count": 2,
   "metadata": {},
   "outputs": [],
   "source": [
    "#load dataset\n",
    "uber_df = spark.read.csv(\"D:\\\\UberApril14.csv\", inferSchema = True, header = True)"
   ]
  },
  {
   "cell_type": "code",
   "execution_count": 3,
   "metadata": {},
   "outputs": [
    {
     "name": "stdout",
     "output_type": "stream",
     "text": [
      "564516 4\n"
     ]
    }
   ],
   "source": [
    "print(uber_df.count(), len(uber_df.columns)) # we have 56416 rows and 4 columns"
   ]
  },
  {
   "cell_type": "code",
   "execution_count": 4,
   "metadata": {},
   "outputs": [
    {
     "name": "stdout",
     "output_type": "stream",
     "text": [
      "+------+------+\n",
      "|  Base| count|\n",
      "+------+------+\n",
      "|B02682|227808|\n",
      "|B02598|183263|\n",
      "|B02617|108001|\n",
      "|B02512| 35536|\n",
      "|B02764|  9908|\n",
      "+------+------+\n",
      "\n"
     ]
    }
   ],
   "source": [
    "uber_df.groupBy('Base').count().orderBy('count', ascending=False).show()\n",
    "#The trips are not equally distributed, the bases B02682 and B02598 are dominating the market\n",
    "# B02682 has the most trips with 227808 trips (40.35% of all trips)\n",
    "# B02598 has 32.46% of all trips\n",
    "# B02617 has 19.13% of all trips\n",
    "# B02512 has 6.29% of all trips\n",
    "# B02764 has the lowest amount of trips with 9908 trips (1.76%)"
   ]
  },
  {
   "cell_type": "code",
   "execution_count": 5,
   "metadata": {},
   "outputs": [
    {
     "name": "stdout",
     "output_type": "stream",
     "text": [
      "root\n",
      " |-- Date/Time: string (nullable = true)\n",
      " |-- Lat: double (nullable = true)\n",
      " |-- Lon: double (nullable = true)\n",
      " |-- Base: string (nullable = true)\n",
      "\n"
     ]
    }
   ],
   "source": [
    "uber_df.printSchema() \n",
    "#features for each trip are date/time, latitude and longitude of pickup location, as well as the TLC base company code of the uber pickup\n",
    "# date/time and base are in the string format, but not included in the model \n",
    "# base needs no transformation because it is the target variable"
   ]
  },
  {
   "cell_type": "code",
   "execution_count": 6,
   "metadata": {},
   "outputs": [
    {
     "name": "stdout",
     "output_type": "stream",
     "text": [
      "+----------------+-------+--------+------+\n",
      "|       Date/Time|    Lat|     Lon|  Base|\n",
      "+----------------+-------+--------+------+\n",
      "|4/1/2014 0:11:00| 40.769|-73.9549|B02512|\n",
      "|4/1/2014 0:17:00|40.7267|-74.0345|B02512|\n",
      "|4/1/2014 0:21:00|40.7316|-73.9873|B02512|\n",
      "|4/1/2014 0:28:00|40.7588|-73.9776|B02512|\n",
      "|4/1/2014 0:33:00|40.7594|-73.9722|B02512|\n",
      "|4/1/2014 0:33:00|40.7383|-74.0403|B02512|\n",
      "|4/1/2014 0:39:00|40.7223|-73.9887|B02512|\n",
      "|4/1/2014 0:45:00| 40.762| -73.979|B02512|\n",
      "|4/1/2014 0:55:00|40.7524| -73.996|B02512|\n",
      "|4/1/2014 1:01:00|40.7575|-73.9846|B02512|\n",
      "|4/1/2014 1:19:00|40.7256|-73.9869|B02512|\n",
      "|4/1/2014 1:48:00|40.7591|-73.9684|B02512|\n",
      "|4/1/2014 1:49:00|40.7271|-73.9803|B02512|\n",
      "|4/1/2014 2:11:00|40.6463|-73.7896|B02512|\n",
      "|4/1/2014 2:25:00|40.7564|-73.9167|B02512|\n",
      "|4/1/2014 2:31:00|40.7666|-73.9531|B02512|\n",
      "|4/1/2014 2:43:00| 40.758|-73.9761|B02512|\n",
      "|4/1/2014 3:22:00|40.7238|-73.9821|B02512|\n",
      "|4/1/2014 3:35:00|40.7531|-74.0039|B02512|\n",
      "|4/1/2014 3:35:00|40.7389|-74.0393|B02512|\n",
      "+----------------+-------+--------+------+\n",
      "only showing top 20 rows\n",
      "\n"
     ]
    }
   ],
   "source": [
    "uber_df.show()"
   ]
  },
  {
   "cell_type": "code",
   "execution_count": 7,
   "metadata": {},
   "outputs": [],
   "source": [
    "#feature engineerng and vectorization\n",
    "from pyspark.ml.linalg import Vector\n",
    "from pyspark.ml.feature import VectorAssembler"
   ]
  },
  {
   "cell_type": "code",
   "execution_count": 8,
   "metadata": {},
   "outputs": [],
   "source": [
    "input_cols = ['Lat', 'Lon']"
   ]
  },
  {
   "cell_type": "code",
   "execution_count": 9,
   "metadata": {},
   "outputs": [],
   "source": [
    "vec_assembler = VectorAssembler(inputCols=input_cols, outputCol = 'features')"
   ]
  },
  {
   "cell_type": "code",
   "execution_count": 10,
   "metadata": {},
   "outputs": [],
   "source": [
    "vec_uber_df = vec_assembler.transform(uber_df)"
   ]
  },
  {
   "cell_type": "code",
   "execution_count": 11,
   "metadata": {},
   "outputs": [
    {
     "name": "stdout",
     "output_type": "stream",
     "text": [
      "root\n",
      " |-- Date/Time: string (nullable = true)\n",
      " |-- Lat: double (nullable = true)\n",
      " |-- Lon: double (nullable = true)\n",
      " |-- Base: string (nullable = true)\n",
      " |-- features: vector (nullable = true)\n",
      "\n"
     ]
    }
   ],
   "source": [
    "vec_uber_df.printSchema()"
   ]
  },
  {
   "cell_type": "code",
   "execution_count": 12,
   "metadata": {},
   "outputs": [],
   "source": [
    "final_uber_df = vec_uber_df.select('Lat', 'Lon', 'Base', 'features')"
   ]
  },
  {
   "cell_type": "code",
   "execution_count": 13,
   "metadata": {},
   "outputs": [],
   "source": [
    "model_df = vec_uber_df.select(['Base', 'features'])"
   ]
  },
  {
   "cell_type": "code",
   "execution_count": 14,
   "metadata": {},
   "outputs": [],
   "source": [
    "#splitting the dataset\n",
    "training_df, test_df = model_df.randomSplit([0.75, 0.25])"
   ]
  },
  {
   "cell_type": "code",
   "execution_count": 15,
   "metadata": {},
   "outputs": [
    {
     "name": "stdout",
     "output_type": "stream",
     "text": [
      "423720\n"
     ]
    }
   ],
   "source": [
    "print(training_df.count())\n",
    "# 423167/564516 = 0.749 = 75%"
   ]
  },
  {
   "cell_type": "code",
   "execution_count": 16,
   "metadata": {},
   "outputs": [
    {
     "name": "stdout",
     "output_type": "stream",
     "text": [
      "140796\n"
     ]
    }
   ],
   "source": [
    "print(test_df.count())\n",
    "# 141349/564516 = 0.25 = 25%"
   ]
  },
  {
   "cell_type": "code",
   "execution_count": 17,
   "metadata": {},
   "outputs": [
    {
     "name": "stdout",
     "output_type": "stream",
     "text": [
      "+------+------+\n",
      "|  Base| count|\n",
      "+------+------+\n",
      "|B02512| 26694|\n",
      "|B02598|137643|\n",
      "|B02682|170811|\n",
      "|B02617| 81107|\n",
      "|B02764|  7465|\n",
      "+------+------+\n",
      "\n"
     ]
    }
   ],
   "source": [
    "training_df.groupby(\"Base\").count().show() # checking the split dataset \n",
    "# B02512: 26694/423720 = 0.0629 = 6.3% \n",
    "# B02598: 137643/423720 = 0.3248 = 32.5%\n",
    "# B02682: 170811/423720 = 0.4031 = 40.3%\n",
    "# B02617: 81107/423720 = 0.1914 = 19.1%\n",
    "# B02764: 7465/423720 = 0.0176 = 1.8% \n",
    "\n",
    "#they are all distributed the same way (maximum of about 0.1% difference) as the original dataset"
   ]
  },
  {
   "cell_type": "code",
   "execution_count": 18,
   "metadata": {},
   "outputs": [
    {
     "name": "stdout",
     "output_type": "stream",
     "text": [
      "+------+-----+\n",
      "|  Base|count|\n",
      "+------+-----+\n",
      "|B02512| 8842|\n",
      "|B02598|45620|\n",
      "|B02682|56997|\n",
      "|B02617|26894|\n",
      "|B02764| 2443|\n",
      "+------+-----+\n",
      "\n"
     ]
    }
   ],
   "source": [
    "test_df.groupby(\"Base\").count().show() # checking the split dataset \n",
    "# B02512: 8842/140796 = 0.0628 = 6.3% \n",
    "# B02598: 45620/140796 = 0.3240 = 32.4%\n",
    "# B02682: 56997/140796 = 0.4048 = 40.5%\n",
    "# B02617: 26894/140796 = 0.1910 = 19.1%\n",
    "# B02764: 2443/140796 = 0.0174 = 1.74% \n",
    "\n",
    "#they are all distributed (maximum of about 0.1% difference) the same way as the original dataset"
   ]
  },
  {
   "cell_type": "code",
   "execution_count": 19,
   "metadata": {},
   "outputs": [
    {
     "name": "stdout",
     "output_type": "stream",
     "text": [
      "With K =  2\n",
      "the sse = 1011.7248059383345\n",
      "------------------------------------------------------------\n",
      "With K =  3\n",
      "the sse = 760.4487785121821\n",
      "------------------------------------------------------------\n",
      "With K =  4\n",
      "the sse = 649.2800431491769\n",
      "------------------------------------------------------------\n",
      "With K =  5\n",
      "the sse = 566.8939999850375\n",
      "------------------------------------------------------------\n",
      "With K =  6\n",
      "the sse = 474.45911483326086\n",
      "------------------------------------------------------------\n",
      "With K =  7\n",
      "the sse = 431.02996350861935\n",
      "------------------------------------------------------------\n",
      "With K =  8\n",
      "the sse = 290.5568747473954\n",
      "------------------------------------------------------------\n",
      "With K =  9\n",
      "the sse = 269.84901951521374\n",
      "------------------------------------------------------------\n"
     ]
    }
   ],
   "source": [
    "from pyspark.ml.clustering import KMeans \n",
    "errors = []\n",
    "for k in range (2,10):\n",
    "    kmeans = KMeans(featuresCol='features', k=k).setSeed(5)\n",
    "    model = kmeans.fit(training_df)\n",
    "    intra_cluster_distance = model.computeCost(training_df)\n",
    "    errors.append(intra_cluster_distance)\n",
    "    print(\"With K = \" , format(k))\n",
    "    print(\"the sse = \" + str(intra_cluster_distance))\n",
    "    print(\"---\"*20)"
   ]
  },
  {
   "cell_type": "code",
   "execution_count": 20,
   "metadata": {},
   "outputs": [],
   "source": [
    "import pandas as pd\n",
    "import numpy as np \n",
    "import matplotlib.pyplot as plt "
   ]
  },
  {
   "cell_type": "code",
   "execution_count": 21,
   "metadata": {},
   "outputs": [
    {
     "data": {
      "image/png": "[encoded data removed]",
      "text/plain": [
       "<Figure size 432x288 with 1 Axes>"
      ]
     },
     "metadata": {
      "needs_background": "light"
     },
     "output_type": "display_data"
    }
   ],
   "source": [
    "cluster_number = range(2,10)\n",
    "plt.xlabel(\"Number of Clusters\")\n",
    "plt.ylabel('SSE - Sum of Squared Errors')\n",
    "plt.scatter(cluster_number, errors)\n",
    "plt.show()"
   ]
  },
  {
   "cell_type": "code",
   "execution_count": 23,
   "metadata": {
    "scrolled": false
   },
   "outputs": [
    {
     "name": "stdout",
     "output_type": "stream",
     "text": [
      "Silhouette Coefficient: 0.6336770249427754\n",
      "SSE = 290.5568747473954\n"
     ]
    }
   ],
   "source": [
    "#we will use K=8 (started with k=5)\n",
    "from pyspark.ml.evaluation import ClusteringEvaluator\n",
    "evaluatorObj = ClusteringEvaluator()\n",
    "\n",
    "kmeans = KMeans(featuresCol='features', k=8).setSeed(5)\n",
    "model = kmeans.fit(training_df)\n",
    "intra_cluster_distance = model.computeCost(training_df)\n",
    "\n",
    "\n",
    "predictions = model.transform(training_df)#predictions is which cluster was the datapoint assigned\n",
    "#predictions.columns\n",
    "silhouette_coeff = evaluatorObj.evaluate(predictions)\n",
    "print('Silhouette Coefficient: ' + str(silhouette_coeff))\n",
    "print(\"SSE = \" + str(intra_cluster_distance))"
   ]
  },
  {
   "cell_type": "code",
   "execution_count": 23,
   "metadata": {},
   "outputs": [],
   "source": [
    "# k = 4\n",
    "# Silhouette Coefficient: 0.5363748226705073\n",
    "# SSE = 602.0778569104061\n",
    "\n",
    "# k = 5\n",
    "# Silhouette Coefficient: 0.5535857307652398\n",
    "# SSE = 464.0340605858044\n",
    "\n",
    "# k = 6 \n",
    "# Silhouette Coefficient: 0.6183247740108855\n",
    "# SSE = 364.50309371549935\n",
    "\n",
    "# k = 7 \n",
    "# Silhouette Coefficient: 0.5129132096513541\n",
    "# SSE = 431.0299635086193\n",
    "\n",
    "# k = 8 \n",
    "# Silhouette Coefficient: 0.6336770249427754\n",
    "# SSE = 290.5568747473954"
   ]
  },
  {
   "cell_type": "code",
   "execution_count": 24,
   "metadata": {},
   "outputs": [],
   "source": [
    "# I choose 8 clusters based on the best values for Silhouette coeffiecent and SSE\n",
    "# SSE is the lowest with 290.56, and Silhouette coefficient gives us the best value regarding the quality of cluster with 0.63"
   ]
  },
  {
   "cell_type": "code",
   "execution_count": 24,
   "metadata": {},
   "outputs": [
    {
     "name": "stdout",
     "output_type": "stream",
     "text": [
      "Silhouette Coefficient: 0.6312441830558223\n",
      "SSE = 98.002724718211\n"
     ]
    }
   ],
   "source": [
    "#test dataset\n",
    "evaluatorObj = ClusteringEvaluator()\n",
    "test_model = kmeans.fit(test_df)\n",
    "intra_cluster_distance = model.computeCost(test_df)\n",
    "\n",
    "\n",
    "predictions_test = model.transform(test_df)\n",
    "\n",
    "silhouette_coeff = evaluatorObj.evaluate(predictions_test)\n",
    "print('Silhouette Coefficient: ' + str(silhouette_coeff))\n",
    "print(\"SSE = \" + str(intra_cluster_distance))"
   ]
  },
  {
   "cell_type": "code",
   "execution_count": 26,
   "metadata": {},
   "outputs": [],
   "source": [
    "#the Silhouette Coefficient is with 0.6312 a little lower than our training dataset but still good   \n",
    "#the SSE is even lower with 98\n",
    "#the training algorithm seems to be stable regarding Silhouette Coefficient\n",
    "#SSE might vary because the dataset is smaller "
   ]
  },
  {
   "cell_type": "code",
   "execution_count": 25,
   "metadata": {},
   "outputs": [
    {
     "name": "stdout",
     "output_type": "stream",
     "text": [
      "+----------+-----+\n",
      "|prediction|count|\n",
      "+----------+-----+\n",
      "|         1|15085|\n",
      "|         6|  119|\n",
      "|         3| 3539|\n",
      "|         5| 4962|\n",
      "|         4| 1157|\n",
      "|         7|  238|\n",
      "|         2|53725|\n",
      "|         0|61971|\n",
      "+----------+-----+\n",
      "\n"
     ]
    }
   ],
   "source": [
    "predictions_test.groupBy('prediction').count().show()\n",
    "#group 0 has highest amount of trips, cluster 2 is very high as well\n",
    "#cluster 1 has lowest amount of trips \n",
    " "
   ]
  },
  {
   "cell_type": "code",
   "execution_count": 28,
   "metadata": {},
   "outputs": [
    {
     "name": "stdout",
     "output_type": "stream",
     "text": [
      "+----------+------+-----+\n",
      "|prediction|  base|count|\n",
      "+----------+------+-----+\n",
      "|         7|B02598|   87|\n",
      "|         7|B02512|   16|\n",
      "|         7|B02682|   96|\n",
      "|         7|B02764|    2|\n",
      "|         7|B02617|   37|\n",
      "|         6|B02682|   41|\n",
      "|         6|B02512|   18|\n",
      "|         6|B02598|   37|\n",
      "|         6|B02617|   22|\n",
      "|         6|B02764|    1|\n",
      "|         5|B02764|   69|\n",
      "|         5|B02512|  299|\n",
      "|         5|B02598| 1553|\n",
      "|         5|B02682| 2057|\n",
      "|         5|B02617|  984|\n",
      "|         4|B02598|  279|\n",
      "|         4|B02512|  172|\n",
      "|         4|B02617|  223|\n",
      "|         4|B02764|   42|\n",
      "|         4|B02682|  441|\n",
      "|         3|B02617|  724|\n",
      "|         3|B02682| 1487|\n",
      "|         3|B02512|  162|\n",
      "|         3|B02598| 1117|\n",
      "|         3|B02764|   49|\n",
      "|         2|B02598|17267|\n",
      "|         2|B02682|21850|\n",
      "|         2|B02764|  853|\n",
      "|         2|B02512| 3914|\n",
      "|         2|B02617| 9841|\n",
      "|         1|B02764|  249|\n",
      "|         1|B02617| 3141|\n",
      "|         1|B02598| 5211|\n",
      "|         1|B02512|  473|\n",
      "|         1|B02682| 6011|\n",
      "|         0|B02682|25014|\n",
      "|         0|B02617|11922|\n",
      "|         0|B02512| 3788|\n",
      "|         0|B02598|20069|\n",
      "|         0|B02764| 1178|\n",
      "+----------+------+-----+\n",
      "\n"
     ]
    }
   ],
   "source": [
    "predictions_test.groupBy('prediction', 'base').count().orderBy('prediction', ascending=False).show(60)\n",
    "#all bases are present in all clusters (with a minimum of 1)\n",
    "#cluster 0 has the highest amount of trips \n",
    "#cluster 2 the second highest amount of trips "
   ]
  },
  {
   "cell_type": "code",
   "execution_count": null,
   "metadata": {},
   "outputs": [],
   "source": [
    "#number 8\n",
    "\n",
    "#the following measures are not provided by Mlib, but could be used to evaluate kmeans:\n",
    "\n",
    "# The Davies-Bouldin Index (davies bouldin score) evaluates the number of clusters and is available under the scikit package (sklearn.metrics). It evaluates intra-cluster similarity and inter-cluster differences - the lower the score the better\n",
    "# The Calinski Harabaz score(also known as Variance Ratio Criterion) and is the ratio between the within-cluster dispersion and the between-cluster dispersion. It is available under the scikit package (sklearn.metrics) as well. The optimal cluster has a high index \n",
    "# The Dunn index is another measure to evaluate clustering. It is an internal clustering validation. For each cluster the distance between each object in the cluster and the objects in other clusters is computed. A high value implies better clustering.   "
   ]
  }
 ],
 "metadata": {
  "kernelspec": {
   "display_name": "Python 3",
   "language": "python",
   "name": "python3"
  },
  "language_info": {
   "codemirror_mode": {
    "name": "ipython",
    "version": 3
   },
   "file_extension": ".py",
   "mimetype": "text/x-python",
   "name": "python",
   "nbconvert_exporter": "python",
   "pygments_lexer": "ipython3",
   "version": "3.7.4"
  }
 },
 "nbformat": 4,
 "nbformat_minor": 2
}
